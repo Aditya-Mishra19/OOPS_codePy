{
 "cells": [
  {
   "cell_type": "markdown",
   "metadata": {
    "slideshow": {
     "slide_type": "slide"
    }
   },
   "source": [
    "# OOP- II\n",
    "- Multiple-inheritence, Polymorphism, iterator-objects\n",
    "- Will answer a key questions from yesterday's live chat window. \n",
    "- Will cover a few good ideas like dir() that others suggested in the chat window yesterday.\n",
    "\n",
    "Pre-requisites: previous live-sessions in this series."
   ]
  },
  {
   "cell_type": "markdown",
   "metadata": {},
   "source": [
    "### How is OOP typically used in an ML role:\n",
    "- Using existing Classes.\n",
    "- Reading documentation to understand how to use a fucntion/class/module.\n",
    "- Fixing code bugs and understanding error messages.\n",
    "- Extending existing classes to modify some fucntionality in an existing class\n",
    "- Working with Software enigneers to build some ML classes for them to use in the larger software.\n",
    "- Do not perform OOD without understanding it well. Typically done by senior engineers/architects. A good beginner's book: https://learning.oreilly.com/library/view/head-first-design/0596007124/"
   ]
  },
  {
   "cell_type": "markdown",
   "metadata": {
    "slideshow": {
     "slide_type": "slide"
    }
   },
   "source": [
    "### Multiple-inheritence\n",
    "\n",
    "https://docs.python.org/3/tutorial/classes.html#multiple-inheritance\n",
    "\n",
    "class DerivedClassName(Base1, Base2, Base3):\n",
    "    <br>....\n",
    "    <br>....\n",
    "    \n"
   ]
  },
  {
   "cell_type": "code",
   "execution_count": 114,
   "metadata": {},
   "outputs": [
    {
     "name": "stdout",
     "output_type": "stream",
     "text": [
      "explore in A  called\n",
      "search in B  called\n",
      "discover() in C  called\n",
      "test() in D called\n"
     ]
    }
   ],
   "source": [
    "# toy-example: Modifications on https://overiq.com/python-101/inheritance-and-polymorphism-in-python/\n",
    "\n",
    "class A:\n",
    "    def explore(self):\n",
    "        print(\"explore in A  called\")\n",
    "class B:\n",
    "    def search(self):\n",
    "        print(\"search in B  called\")\n",
    "\n",
    "    def explore(self):\n",
    "        print(\"explore in B called\")\n",
    "\n",
    "class C:\n",
    "    def discover(self):\n",
    "        print(\"discover() in C  called\")\n",
    "\n",
    "class D(A, B, C): # multiple inheritence\n",
    "    def test(self):\n",
    "        print(\"test() in D called\")\n",
    " \n",
    " \n",
    "d_obj = D()\n",
    "d_obj.explore()\n",
    "d_obj.search()\n",
    "d_obj.discover()\n",
    "d_obj.test()"
   ]
  },
  {
   "cell_type": "code",
   "execution_count": 68,
   "metadata": {
    "slideshow": {
     "slide_type": "slide"
    }
   },
   "outputs": [
    {
     "name": "stdout",
     "output_type": "stream",
     "text": [
      "explore in B called\n"
     ]
    }
   ],
   "source": [
    "# toy-example: Diamond inheritence a.k.a. Deadly dimaond\n",
    "\n",
    "class A:\n",
    "    def explore(self):\n",
    "        print(\"explore in A  called\")\n",
    "\n",
    "class B(A):\n",
    "\n",
    "    def explore(self):\n",
    "        print(\"explore in B called\")\n",
    "\n",
    "class C(A):\n",
    "    def explore(self):\n",
    "        print(\"explore in C  called\")\n",
    "\n",
    "class D(B, C): # multiple inheritence\n",
    "    pass;\n",
    " \n",
    "\n",
    "d_obj = D()\n",
    "d_obj.explore()\n"
   ]
  },
  {
   "cell_type": "markdown",
   "metadata": {
    "slideshow": {
     "slide_type": "slide"
    }
   },
   "source": [
    "### Polymorphism\n",
    "- Different forms\n",
    "- Operator level Polymorphism: 2+3, \"abc\" + \"def\"\n",
    "- Function level Polymorphism: len([1,2,3]), len (\"abcdef\"), len({1,2,3,4})\n",
    "- Class level Polymorphism"
   ]
  },
  {
   "cell_type": "code",
   "execution_count": 128,
   "metadata": {
    "slideshow": {
     "slide_type": "slide"
    }
   },
   "outputs": [
    {
     "name": "stdout",
     "output_type": "stream",
     "text": [
      "3\n",
      "6\n",
      "4\n"
     ]
    }
   ],
   "source": [
    "print(len([1,2,3]));\n",
    "print(len(\"abcdef\"))\n",
    "print(len({1,2,3,4}))"
   ]
  },
  {
   "cell_type": "code",
   "execution_count": 134,
   "metadata": {},
   "outputs": [
    {
     "name": "stdout",
     "output_type": "stream",
     "text": [
      "function p in A\n",
      "function p in B\n",
      "##########################\n",
      "function p in A\n",
      "function p in B\n"
     ]
    }
   ],
   "source": [
    "#class level Polymorphism\n",
    "\n",
    "class A:\n",
    "    def p(self):\n",
    "        return \"function p in A\"\n",
    "\n",
    "class B:\n",
    "    def p(self):\n",
    "        return \"function p in B\"\n",
    "    \n",
    "\n",
    "a = A();\n",
    "b = B();\n",
    "\n",
    "for i in (a,b):\n",
    "    print(i.p()) # the function that runs depends on the object type making this code much more elegant and crisp\n",
    "\n",
    "print(\"##########################\")\n",
    "\n",
    "x=a;\n",
    "print(x.p());\n",
    "\n",
    "x=b;\n",
    "print(x.p());"
   ]
  },
  {
   "cell_type": "code",
   "execution_count": 138,
   "metadata": {},
   "outputs": [
    {
     "name": "stdout",
     "output_type": "stream",
     "text": [
      "black\n",
      "black\n",
      "black\n",
      "200\n",
      "12.566370614359172\n"
     ]
    }
   ],
   "source": [
    "# Polymorphism + Inheritence\n",
    "\n",
    "# example seen earlier: [Source: https://overiq.com/python-101/inheritance-and-polymorphism-in-python/]\n",
    "import math\n",
    " \n",
    "class Shape:\n",
    " \n",
    "    def __init__(self, color='black', filled=False):\n",
    "        self.__color = color\n",
    "        self.__filled = filled\n",
    " \n",
    "    def get_color(self):\n",
    "        return self.__color\n",
    " \n",
    "    def set_color(self, color):\n",
    "        self.__color = color\n",
    " \n",
    "    def get_filled(self):\n",
    "        return self.__filled\n",
    " \n",
    "    def set_filled(self, filled):\n",
    "        self.__filled = filled\n",
    " \n",
    " \n",
    "class Rectangle(Shape):\n",
    " \n",
    "    def __init__(self, length, breadth):\n",
    "        super().__init__()\n",
    "        self.__length = length\n",
    "        self.__breadth = breadth\n",
    " \n",
    "    def get_length(self):\n",
    "        return self.__length\n",
    " \n",
    "    def set_length(self, length):\n",
    "        self.__length = length\n",
    " \n",
    "    def get_breadth(self):\n",
    "        return self.__breadth\n",
    " \n",
    "    def set_breadth(self, breadth):\n",
    "        self.__breadth = breadth\n",
    " \n",
    "    def get_area(self):\n",
    "        return self.__length * self.__breadth\n",
    " \n",
    "    def get_perimeter(self):\n",
    "        return 2 * (self.__length + self.__breadth)\n",
    " \n",
    " \n",
    "class Circle(Shape):\n",
    "    def __init__(self, radius):\n",
    "        super().__init__()\n",
    "        self.__radius = radius\n",
    " \n",
    "    def get_radius(self):\n",
    "        return self.__radius\n",
    " \n",
    "    def set_radius(self, radius):\n",
    "        self.__radius = radius\n",
    " \n",
    "    def get_area(self):\n",
    "        return math.pi * self.__radius ** 2\n",
    " \n",
    "    def get_perimeter(self):\n",
    "        return 2 * math.pi * self.__radius\n",
    "\n",
    "s = Shape();\n",
    "r = Rectangle(10,20);\n",
    "c = Circle(2);\n",
    "\n",
    "for i in (s, r,c):\n",
    "    print(i.get_color())\n",
    "    \n",
    "for i in (r,c):\n",
    "    print(i.get_area())"
   ]
  },
  {
   "cell_type": "code",
   "execution_count": 141,
   "metadata": {},
   "outputs": [
    {
     "name": "stdout",
     "output_type": "stream",
     "text": [
      "{'a': 1, 'b': 2}\n",
      "[1, 2, 3, 4]\n",
      "{1, 2, 3, 4}\n"
     ]
    }
   ],
   "source": [
    "# Polymorphism + Inheritence [inbuilt-DS]\n",
    "\n",
    "d = {'a':1, 'b':2}\n",
    "l = [1,2,3,4]\n",
    "s = {1,2,3,4}\n",
    "\n",
    "for i in (d,l,s):\n",
    "    print(i) # polymorphism + inheritence [__str__ from object]\n"
   ]
  },
  {
   "cell_type": "markdown",
   "metadata": {},
   "source": [
    "### Iterable objects"
   ]
  },
  {
   "cell_type": "code",
   "execution_count": 142,
   "metadata": {
    "slideshow": {
     "slide_type": "slide"
    }
   },
   "outputs": [
    {
     "name": "stdout",
     "output_type": "stream",
     "text": [
      "1\n",
      "2\n",
      "3\n",
      "4\n"
     ]
    }
   ],
   "source": [
    "### Iteratable objects in Python\n",
    "for i in [1,2,3,4]:\n",
    "    print(i)"
   ]
  },
  {
   "cell_type": "code",
   "execution_count": 145,
   "metadata": {
    "slideshow": {
     "slide_type": "slide"
    }
   },
   "outputs": [],
   "source": [
    "# How to make objects of a class iteratable?\n",
    "# Source: https://docs.python.org/3/tutorial/classes.html#iterators\n",
    "\n",
    "class Reverse:\n",
    "    \"\"\"Iterator for looping over a sequence backwards.\"\"\"\n",
    "    def __init__(self, data): # data can be list or tuple or string\n",
    "        self.data = data\n",
    "        self.index = len(data)\n",
    "\n",
    "    def __iter__(self):\n",
    "        return self\n",
    "\n",
    "    def __next__(self):\n",
    "        if self.index == 0:\n",
    "            raise StopIteration\n",
    "        self.index = self.index - 1\n",
    "        return self.data[self.index]"
   ]
  },
  {
   "cell_type": "code",
   "execution_count": 146,
   "metadata": {
    "slideshow": {
     "slide_type": "subslide"
    }
   },
   "outputs": [
    {
     "name": "stdout",
     "output_type": "stream",
     "text": [
      "4\n",
      "3\n",
      "2\n",
      "1\n"
     ]
    }
   ],
   "source": [
    "r = Reverse([1,2,3,4]);\n",
    "for i in r:\n",
    "    print(i)"
   ]
  },
  {
   "cell_type": "code",
   "execution_count": 147,
   "metadata": {
    "slideshow": {
     "slide_type": "subslide"
    }
   },
   "outputs": [
    {
     "name": "stdout",
     "output_type": "stream",
     "text": [
      "5\n",
      "4\n",
      "3\n",
      "2\n",
      "1\n"
     ]
    }
   ],
   "source": [
    "r = Reverse((1,2,3,4,5));\n",
    "for i in r:\n",
    "    print(i)"
   ]
  },
  {
   "cell_type": "code",
   "execution_count": 148,
   "metadata": {
    "slideshow": {
     "slide_type": "subslide"
    }
   },
   "outputs": [
    {
     "name": "stdout",
     "output_type": "stream",
     "text": [
      "f\n",
      "e\n",
      "d\n",
      "c\n",
      "b\n",
      "a\n"
     ]
    }
   ],
   "source": [
    "r = Reverse(\"abcdef\");\n",
    "for i in r:\n",
    "    print(i)http://localhost:8888/notebooks/CodeWalkthroughSessions/LIVE_OOP_Basics_II.ipynb#"
   ]
  },
  {
   "cell_type": "code",
   "execution_count": 149,
   "metadata": {
    "slideshow": {
     "slide_type": "subslide"
    }
   },
   "outputs": [
    {
     "ename": "TypeError",
     "evalue": "'set' object is not subscriptable",
     "output_type": "error",
     "traceback": [
      "\u001b[0;31m---------------------------------------------------------------------------\u001b[0m",
      "\u001b[0;31mTypeError\u001b[0m                                 Traceback (most recent call last)",
      "\u001b[0;32m<ipython-input-149-28ae62154c2b>\u001b[0m in \u001b[0;36m<module>\u001b[0;34m\u001b[0m\n\u001b[1;32m      1\u001b[0m \u001b[0mr\u001b[0m \u001b[0;34m=\u001b[0m \u001b[0mReverse\u001b[0m\u001b[0;34m(\u001b[0m\u001b[0;34m{\u001b[0m\u001b[0;36m1\u001b[0m\u001b[0;34m,\u001b[0m\u001b[0;36m2\u001b[0m\u001b[0;34m,\u001b[0m\u001b[0;36m3\u001b[0m\u001b[0;34m,\u001b[0m\u001b[0;36m4\u001b[0m\u001b[0;34m,\u001b[0m\u001b[0;36m5\u001b[0m\u001b[0;34m}\u001b[0m\u001b[0;34m)\u001b[0m\u001b[0;34m;\u001b[0m\u001b[0;34m\u001b[0m\u001b[0;34m\u001b[0m\u001b[0m\n\u001b[0;32m----> 2\u001b[0;31m \u001b[0;32mfor\u001b[0m \u001b[0mi\u001b[0m \u001b[0;32min\u001b[0m \u001b[0mr\u001b[0m\u001b[0;34m:\u001b[0m\u001b[0;34m\u001b[0m\u001b[0;34m\u001b[0m\u001b[0m\n\u001b[0m\u001b[1;32m      3\u001b[0m     \u001b[0mprint\u001b[0m\u001b[0;34m(\u001b[0m\u001b[0mi\u001b[0m\u001b[0;34m)\u001b[0m\u001b[0;34m\u001b[0m\u001b[0;34m\u001b[0m\u001b[0m\n",
      "\u001b[0;32m<ipython-input-145-f14c16d18755>\u001b[0m in \u001b[0;36m__next__\u001b[0;34m(self)\u001b[0m\n\u001b[1;32m     15\u001b[0m             \u001b[0;32mraise\u001b[0m \u001b[0mStopIteration\u001b[0m\u001b[0;34m\u001b[0m\u001b[0;34m\u001b[0m\u001b[0m\n\u001b[1;32m     16\u001b[0m         \u001b[0mself\u001b[0m\u001b[0;34m.\u001b[0m\u001b[0mindex\u001b[0m \u001b[0;34m=\u001b[0m \u001b[0mself\u001b[0m\u001b[0;34m.\u001b[0m\u001b[0mindex\u001b[0m \u001b[0;34m-\u001b[0m \u001b[0;36m1\u001b[0m\u001b[0;34m\u001b[0m\u001b[0;34m\u001b[0m\u001b[0m\n\u001b[0;32m---> 17\u001b[0;31m         \u001b[0;32mreturn\u001b[0m \u001b[0mself\u001b[0m\u001b[0;34m.\u001b[0m\u001b[0mdata\u001b[0m\u001b[0;34m[\u001b[0m\u001b[0mself\u001b[0m\u001b[0;34m.\u001b[0m\u001b[0mindex\u001b[0m\u001b[0;34m]\u001b[0m\u001b[0;34m\u001b[0m\u001b[0;34m\u001b[0m\u001b[0m\n\u001b[0m",
      "\u001b[0;31mTypeError\u001b[0m: 'set' object is not subscriptable"
     ]
    }
   ],
   "source": [
    "r = Reverse({1,2,3,4,5});\n",
    "for i in r:\n",
    "    print(i)"
   ]
  },
  {
   "cell_type": "markdown",
   "metadata": {},
   "source": [
    "### Few questions from Yesterday's live session in the chat window"
   ]
  },
  {
   "cell_type": "code",
   "execution_count": 4,
   "metadata": {},
   "outputs": [
    {
     "name": "stdout",
     "output_type": "stream",
     "text": [
      "abc 123\n",
      "xyz abcdefghijklmnop\n"
     ]
    }
   ],
   "source": [
    "# Empty classes as a structure.\n",
    "\n",
    "class E:\n",
    "    pass\n",
    "\n",
    "e1 = E();\n",
    "e1.name=\"abc\" # name and no attributes for e1\n",
    "e1.no = 123\n",
    "\n",
    "\n",
    "e2 = E(); # name and addr attrib for e2\n",
    "e2.name = \"xyz\"\n",
    "e2.addr = \"abcdefghijklmnop\"\n",
    "\n",
    "\n",
    "print(e1.name, e1.no)\n",
    "print(e2.name, e2.addr)"
   ]
  },
  {
   "cell_type": "code",
   "execution_count": 9,
   "metadata": {},
   "outputs": [
    {
     "name": "stdout",
     "output_type": "stream",
     "text": [
      "11\n"
     ]
    }
   ],
   "source": [
    "# function within __init__\n",
    "class A:\n",
    "    def __init__(self):\n",
    "        \n",
    "        def function_within(x):\n",
    "            return x+1\n",
    "        \n",
    "        i =10;\n",
    "        print(function_within(i))\n",
    "        \n",
    "\n",
    "a = A();"
   ]
  },
  {
   "cell_type": "code",
   "execution_count": 11,
   "metadata": {},
   "outputs": [
    {
     "name": "stdout",
     "output_type": "stream",
     "text": [
      "['__doc__', '__file__', '__loader__', '__name__', '__package__', '__spec__', 'acos', 'acosh', 'asin', 'asinh', 'atan', 'atan2', 'atanh', 'ceil', 'copysign', 'cos', 'cosh', 'degrees', 'e', 'erf', 'erfc', 'exp', 'expm1', 'fabs', 'factorial', 'floor', 'fmod', 'frexp', 'fsum', 'gamma', 'gcd', 'hypot', 'inf', 'isclose', 'isfinite', 'isinf', 'isnan', 'ldexp', 'lgamma', 'log', 'log10', 'log1p', 'log2', 'modf', 'nan', 'pi', 'pow', 'radians', 'remainder', 'sin', 'sinh', 'sqrt', 'tan', 'tanh', 'tau', 'trunc']\n"
     ]
    }
   ],
   "source": [
    "# dir() is a powerful inbuilt function in Python3, \n",
    "# which returns list of the attributes and methods of any object\n",
    "# like classes , modules, strings, lists, dictionaries etc.\n",
    "\n",
    "import math\n",
    "print(dir(math)) # module\n",
    "\n"
   ]
  },
  {
   "cell_type": "code",
   "execution_count": 14,
   "metadata": {},
   "outputs": [
    {
     "name": "stdout",
     "output_type": "stream",
     "text": [
      "['__class__', '__delattr__', '__dict__', '__dir__', '__doc__', '__eq__', '__format__', '__ge__', '__getattribute__', '__gt__', '__hash__', '__init__', '__init_subclass__', '__le__', '__lt__', '__module__', '__ne__', '__new__', '__reduce__', '__reduce_ex__', '__repr__', '__setattr__', '__sizeof__', '__str__', '__subclasshook__', '__weakref__', 'f']\n"
     ]
    }
   ],
   "source": [
    "class B:\n",
    "    def f():\n",
    "        print(\"Hi\");\n",
    "\n",
    "print(dir(B))"
   ]
  },
  {
   "cell_type": "code",
   "execution_count": 15,
   "metadata": {},
   "outputs": [
    {
     "name": "stdout",
     "output_type": "stream",
     "text": [
      "3.141592653589793\n"
     ]
    }
   ],
   "source": [
    "# use tab to autofill, differs from one IDE to another.\n",
    "print(math.pi)"
   ]
  },
  {
   "cell_type": "code",
   "execution_count": 69,
   "metadata": {},
   "outputs": [
    {
     "name": "stdout",
     "output_type": "stream",
     "text": [
      "3.7.3 (default, Mar 27 2019, 09:23:15) \n",
      "[Clang 10.0.1 (clang-1001.0.46.3)]\n"
     ]
    }
   ],
   "source": [
    "import sys\n",
    "print(sys.version)"
   ]
  },
  {
   "cell_type": "code",
   "execution_count": 71,
   "metadata": {},
   "outputs": [
    {
     "name": "stdout",
     "output_type": "stream",
     "text": [
      "17\n"
     ]
    },
    {
     "ename": "AttributeError",
     "evalue": "'C' object has no attribute '__pr'",
     "output_type": "error",
     "traceback": [
      "\u001b[0;31m---------------------------------------------------------------------------\u001b[0m",
      "\u001b[0;31mAttributeError\u001b[0m                            Traceback (most recent call last)",
      "\u001b[0;32m<ipython-input-71-070461f56116>\u001b[0m in \u001b[0;36m<module>\u001b[0;34m\u001b[0m\n\u001b[1;32m     12\u001b[0m \u001b[0mprint\u001b[0m\u001b[0;34m(\u001b[0m\u001b[0mc\u001b[0m\u001b[0;34m.\u001b[0m\u001b[0mpu\u001b[0m\u001b[0;34m(\u001b[0m\u001b[0;36m4\u001b[0m\u001b[0;34m)\u001b[0m\u001b[0;34m)\u001b[0m\u001b[0;34m\u001b[0m\u001b[0;34m\u001b[0m\u001b[0m\n\u001b[1;32m     13\u001b[0m \u001b[0;34m\u001b[0m\u001b[0m\n\u001b[0;32m---> 14\u001b[0;31m \u001b[0mprint\u001b[0m\u001b[0;34m(\u001b[0m\u001b[0mc\u001b[0m\u001b[0;34m.\u001b[0m\u001b[0m__pr\u001b[0m\u001b[0;34m(\u001b[0m\u001b[0;36m4\u001b[0m\u001b[0;34m)\u001b[0m\u001b[0;34m)\u001b[0m\u001b[0;34m\u001b[0m\u001b[0;34m\u001b[0m\u001b[0m\n\u001b[0m\u001b[1;32m     15\u001b[0m \u001b[0;34m\u001b[0m\u001b[0m\n",
      "\u001b[0;31mAttributeError\u001b[0m: 'C' object has no attribute '__pr'"
     ]
    }
   ],
   "source": [
    "# private methods are just like private attributes that we saw earlier \"__function()\"\n",
    "\n",
    "class C:\n",
    "    def __pr(self, i):\n",
    "        return 2**i;\n",
    "    \n",
    "    def pu(self, x):\n",
    "        return self.__pr(x)+1;\n",
    "\n",
    "c = C();\n",
    "\n",
    "print(c.pu(4))\n",
    "\n",
    "print(c.__pr(4))\n",
    "    "
   ]
  },
  {
   "cell_type": "code",
   "execution_count": 72,
   "metadata": {},
   "outputs": [
    {
     "name": "stdout",
     "output_type": "stream",
     "text": [
      "['_C__pr', '__class__', '__delattr__', '__dict__', '__dir__', '__doc__', '__eq__', '__format__', '__ge__', '__getattribute__', '__gt__', '__hash__', '__init__', '__init_subclass__', '__le__', '__lt__', '__module__', '__ne__', '__new__', '__reduce__', '__reduce_ex__', '__repr__', '__setattr__', '__sizeof__', '__str__', '__subclasshook__', '__weakref__', 'pu']\n"
     ]
    }
   ],
   "source": [
    "print(dir(C))"
   ]
  },
  {
   "cell_type": "code",
   "execution_count": 73,
   "metadata": {},
   "outputs": [
    {
     "name": "stdout",
     "output_type": "stream",
     "text": [
      "16\n"
     ]
    }
   ],
   "source": [
    "print(c._C__pr(4))"
   ]
  },
  {
   "cell_type": "code",
   "execution_count": 76,
   "metadata": {},
   "outputs": [
    {
     "name": "stdout",
     "output_type": "stream",
     "text": [
      "['_C__pr', '__class__', '__delattr__', '__dict__', '__dir__', '__doc__', '__eq__', '__format__', '__ge__', '__getattribute__', '__gt__', '__hash__', '__init__', '__init_subclass__', '__le__', '__lt__', '__module__', '__ne__', '__new__', '__reduce__', '__reduce_ex__', '__repr__', '__setattr__', '__sizeof__', '__str__', '__subclasshook__', '__weakref__', 'pu']\n",
      "\n",
      "\n",
      "***************************************************************************\n",
      "\n",
      "\n",
      "['_C__pr', '__class__', '__delattr__', '__dict__', '__dir__', '__doc__', '__eq__', '__format__', '__ge__', '__getattribute__', '__gt__', '__hash__', '__init__', '__init_subclass__', '__le__', '__lt__', '__module__', '__ne__', '__new__', '__reduce__', '__reduce_ex__', '__repr__', '__setattr__', '__sizeof__', '__str__', '__subclasshook__', '__weakref__', 'f1', 'f2', 'pu']\n",
      "17\n"
     ]
    }
   ],
   "source": [
    "# Inheritence of private members\n",
    "# C++ has public, private, protected [accessible in all sub-classes but not outside the class]\n",
    "\n",
    "class C:\n",
    "    def __pr(self, i): # private due to TWO underscores, implementation dependent, suggested \n",
    "        return 2**i;\n",
    "    \n",
    "    def pu(self, x):\n",
    "        return self.__pr(x)+1;\n",
    "\n",
    "print(dir(C))\n",
    "print(\"\\n\\n***************************************************************************\\n\\n\")\n",
    "    \n",
    "class D(C):\n",
    "    def f1(self, i):\n",
    "        return self._C__pr(i) # accessing private member of base class\n",
    "    \n",
    "    def f2(self, i):\n",
    "        return self.pu(i) # accessing private member of base class\n",
    "    \n",
    "d = D();\n",
    "print(dir(D))\n",
    "\n",
    "print(d.f2(4))\n"
   ]
  },
  {
   "cell_type": "code",
   "execution_count": 77,
   "metadata": {},
   "outputs": [
    {
     "name": "stdout",
     "output_type": "stream",
     "text": [
      "16\n"
     ]
    }
   ],
   "source": [
    "print(d.f1(4))"
   ]
  },
  {
   "cell_type": "code",
   "execution_count": 58,
   "metadata": {},
   "outputs": [
    {
     "name": "stdout",
     "output_type": "stream",
     "text": [
      "['__class__', '__delattr__', '__dict__', '__dir__', '__doc__', '__eq__', '__format__', '__ge__', '__getattribute__', '__gt__', '__hash__', '__init__', '__init_subclass__', '__le__', '__lt__', '__module__', '__ne__', '__new__', '__reduce__', '__reduce_ex__', '__repr__', '__setattr__', '__sizeof__', '__str__', '__subclasshook__', '__weakref__', '_pr', 'pu']\n",
      "\n",
      "\n",
      "***************************************************************************\n",
      "\n",
      "\n",
      "['__class__', '__delattr__', '__dict__', '__dir__', '__doc__', '__eq__', '__format__', '__ge__', '__getattribute__', '__gt__', '__hash__', '__init__', '__init_subclass__', '__le__', '__lt__', '__module__', '__ne__', '__new__', '__reduce__', '__reduce_ex__', '__repr__', '__setattr__', '__sizeof__', '__str__', '__subclasshook__', '__weakref__', '_pr', 'f1', 'f2', 'pu']\n",
      "16\n"
     ]
    }
   ],
   "source": [
    "# Protected in Python: ONE _\n",
    "# Public: NO _\n",
    "# Private: TWO _\n",
    "# Convention and not a feature of the programming language. Implementation dependent\n",
    "# Refer: https://docs.python.org/3/tutorial/classes.html#private-variables\n",
    "\n",
    "class C:\n",
    "    def _pr(self, i): # protected due to ONE underscore, implementation dependent, suggested \n",
    "        return 2**i;\n",
    "    \n",
    "    def pu(self, x):\n",
    "        return self._pr(x)+1;\n",
    "\n",
    "print(dir(C))\n",
    "print(\"\\n\\n***************************************************************************\\n\\n\")\n",
    "    \n",
    "class D(C):\n",
    "    def f1(self, i):\n",
    "        return self._pr(i) # accessing private member of base class\n",
    "    \n",
    "    def f2(self, i):\n",
    "        return self.pu(i) # accessing private member of base class\n",
    "    \n",
    "d = D();\n",
    "print(dir(D))\n",
    "\n",
    "print(d.f1(4)) # calling a protected member in base calss from derived class\n"
   ]
  },
  {
   "cell_type": "code",
   "execution_count": 59,
   "metadata": {},
   "outputs": [
    {
     "name": "stdout",
     "output_type": "stream",
     "text": [
      "8\n"
     ]
    }
   ],
   "source": [
    "c = C();\n",
    "print (c._pr(3))"
   ]
  },
  {
   "cell_type": "code",
   "execution_count": 42,
   "metadata": {},
   "outputs": [
    {
     "ename": "TypeError",
     "evalue": "__init__() missing 1 required positional argument: 'j'",
     "output_type": "error",
     "traceback": [
      "\u001b[0;31m---------------------------------------------------------------------------\u001b[0m",
      "\u001b[0;31mTypeError\u001b[0m                                 Traceback (most recent call last)",
      "\u001b[0;32m<ipython-input-42-a4511922906c>\u001b[0m in \u001b[0;36m<module>\u001b[0;34m\u001b[0m\n\u001b[1;32m     13\u001b[0m         \u001b[0;32mreturn\u001b[0m \u001b[0;34m\"\\ni=\"\u001b[0m\u001b[0;34m+\u001b[0m\u001b[0mstr\u001b[0m\u001b[0;34m(\u001b[0m\u001b[0mself\u001b[0m\u001b[0;34m.\u001b[0m\u001b[0mvar1\u001b[0m\u001b[0;34m)\u001b[0m\u001b[0;34m+\u001b[0m\u001b[0;34m\"\\t\"\u001b[0m\u001b[0;34m+\u001b[0m\u001b[0;34m\"j=\"\u001b[0m\u001b[0;34m+\u001b[0m\u001b[0mstr\u001b[0m\u001b[0;34m(\u001b[0m\u001b[0mself\u001b[0m\u001b[0;34m.\u001b[0m\u001b[0mvar2\u001b[0m\u001b[0;34m)\u001b[0m\u001b[0;34m\u001b[0m\u001b[0;34m\u001b[0m\u001b[0m\n\u001b[1;32m     14\u001b[0m \u001b[0;34m\u001b[0m\u001b[0m\n\u001b[0;32m---> 15\u001b[0;31m \u001b[0ma1\u001b[0m \u001b[0;34m=\u001b[0m \u001b[0mA\u001b[0m\u001b[0;34m(\u001b[0m\u001b[0;36m10\u001b[0m\u001b[0;34m)\u001b[0m\u001b[0;34m;\u001b[0m\u001b[0;34m\u001b[0m\u001b[0;34m\u001b[0m\u001b[0m\n\u001b[0m\u001b[1;32m     16\u001b[0m \u001b[0mprint\u001b[0m\u001b[0;34m(\u001b[0m\u001b[0ma1\u001b[0m\u001b[0;34m)\u001b[0m\u001b[0;34m\u001b[0m\u001b[0;34m\u001b[0m\u001b[0m\n\u001b[1;32m     17\u001b[0m \u001b[0;34m\u001b[0m\u001b[0m\n",
      "\u001b[0;31mTypeError\u001b[0m: __init__() missing 1 required positional argument: 'j'"
     ]
    }
   ],
   "source": [
    "# Constructor overloading:\n",
    "\n",
    "class A:\n",
    "    def __init__(self, i):\n",
    "        self.var1 = i;\n",
    "        self.var2 = 0;\n",
    "        \n",
    "    def __init__(self, i,j):\n",
    "        self.var1 = i;\n",
    "        self.var2 = j;\n",
    "        \n",
    "    def __str__(self):\n",
    "        return \"\\ni=\"+str(self.var1)+\"\\t\"+\"j=\"+str(self.var2)\n",
    "        \n",
    "a1 = A(10);\n",
    "print(a1)\n",
    "\n",
    "# We can overload but can only use the most recent function definition\n",
    "        "
   ]
  },
  {
   "cell_type": "code",
   "execution_count": 43,
   "metadata": {},
   "outputs": [
    {
     "name": "stdout",
     "output_type": "stream",
     "text": [
      "\n",
      "i=10\tj=20\n"
     ]
    }
   ],
   "source": [
    "a1 = A(10,20);\n",
    "print(a1)"
   ]
  },
  {
   "cell_type": "code",
   "execution_count": 61,
   "metadata": {},
   "outputs": [
    {
     "ename": "NameError",
     "evalue": "name 'f' is not defined",
     "output_type": "error",
     "traceback": [
      "\u001b[0;31m---------------------------------------------------------------------------\u001b[0m",
      "\u001b[0;31mNameError\u001b[0m                                 Traceback (most recent call last)",
      "\u001b[0;32m<ipython-input-61-b8f3ad544ae8>\u001b[0m in \u001b[0;36m<module>\u001b[0;34m\u001b[0m\n\u001b[1;32m     12\u001b[0m         \u001b[0;32mreturn\u001b[0m \u001b[0;34m\"\\ni=\"\u001b[0m\u001b[0;34m+\u001b[0m\u001b[0mstr\u001b[0m\u001b[0;34m(\u001b[0m\u001b[0mself\u001b[0m\u001b[0;34m.\u001b[0m\u001b[0mvar1\u001b[0m\u001b[0;34m)\u001b[0m\u001b[0;34m+\u001b[0m\u001b[0;34m\"\\t\"\u001b[0m\u001b[0;34m+\u001b[0m\u001b[0;34m\"j=\"\u001b[0m\u001b[0;34m+\u001b[0m\u001b[0mstr\u001b[0m\u001b[0;34m(\u001b[0m\u001b[0mself\u001b[0m\u001b[0;34m.\u001b[0m\u001b[0mvar2\u001b[0m\u001b[0;34m)\u001b[0m\u001b[0;34m\u001b[0m\u001b[0;34m\u001b[0m\u001b[0m\n\u001b[1;32m     13\u001b[0m \u001b[0;34m\u001b[0m\u001b[0m\n\u001b[0;32m---> 14\u001b[0;31m \u001b[0ma1\u001b[0m \u001b[0;34m=\u001b[0m \u001b[0mA\u001b[0m\u001b[0;34m(\u001b[0m\u001b[0;36m10\u001b[0m\u001b[0;34m,\u001b[0m\u001b[0;36m20\u001b[0m\u001b[0;34m)\u001b[0m\u001b[0;34m;\u001b[0m\u001b[0;34m\u001b[0m\u001b[0;34m\u001b[0m\u001b[0m\n\u001b[0m\u001b[1;32m     15\u001b[0m \u001b[0mprint\u001b[0m\u001b[0;34m(\u001b[0m\u001b[0ma1\u001b[0m\u001b[0;34m)\u001b[0m\u001b[0;34m\u001b[0m\u001b[0;34m\u001b[0m\u001b[0m\n",
      "\u001b[0;32m<ipython-input-61-b8f3ad544ae8>\u001b[0m in \u001b[0;36m__init__\u001b[0;34m(self, i, j)\u001b[0m\n\u001b[1;32m      3\u001b[0m \u001b[0;32mclass\u001b[0m \u001b[0mA\u001b[0m\u001b[0;34m:\u001b[0m\u001b[0;34m\u001b[0m\u001b[0;34m\u001b[0m\u001b[0m\n\u001b[1;32m      4\u001b[0m     \u001b[0;32mdef\u001b[0m \u001b[0m__init__\u001b[0m\u001b[0;34m(\u001b[0m\u001b[0mself\u001b[0m\u001b[0;34m,\u001b[0m \u001b[0mi\u001b[0m\u001b[0;34m,\u001b[0m\u001b[0mj\u001b[0m\u001b[0;34m)\u001b[0m\u001b[0;34m:\u001b[0m\u001b[0;34m\u001b[0m\u001b[0;34m\u001b[0m\u001b[0m\n\u001b[0;32m----> 5\u001b[0;31m         \u001b[0mf\u001b[0m\u001b[0;34m(\u001b[0m\u001b[0mi\u001b[0m\u001b[0;34m,\u001b[0m\u001b[0mj\u001b[0m\u001b[0;34m)\u001b[0m\u001b[0;34m\u001b[0m\u001b[0;34m\u001b[0m\u001b[0m\n\u001b[0m\u001b[1;32m      6\u001b[0m \u001b[0;34m\u001b[0m\u001b[0m\n\u001b[1;32m      7\u001b[0m     \u001b[0;32mdef\u001b[0m \u001b[0mf\u001b[0m\u001b[0;34m(\u001b[0m\u001b[0mself\u001b[0m\u001b[0;34m,\u001b[0m \u001b[0mi\u001b[0m\u001b[0;34m,\u001b[0m\u001b[0mj\u001b[0m\u001b[0;34m)\u001b[0m\u001b[0;34m:\u001b[0m\u001b[0;34m\u001b[0m\u001b[0;34m\u001b[0m\u001b[0m\n",
      "\u001b[0;31mNameError\u001b[0m: name 'f' is not defined"
     ]
    }
   ],
   "source": [
    "# Can we call other functions inside __init__?\n",
    "\n",
    "class A:\n",
    "    def __init__(self, i,j):\n",
    "        f(i,j)\n",
    "        \n",
    "    def f(self, i,j):\n",
    "        self.var1 = i;\n",
    "        self.var2 = j;\n",
    "        \n",
    "    def __str__(self):\n",
    "        return \"\\ni=\"+str(self.var1)+\"\\t\"+\"j=\"+str(self.var2)\n",
    "        \n",
    "a1 = A(10,20);\n",
    "print(a1)"
   ]
  },
  {
   "cell_type": "code",
   "execution_count": 64,
   "metadata": {},
   "outputs": [
    {
     "name": "stdout",
     "output_type": "stream",
     "text": [
      "\n",
      "i=10\tj=20\n"
     ]
    }
   ],
   "source": [
    "class A:\n",
    "        \n",
    "    def __init__(self, i,j):\n",
    "        self.f(i,j)\n",
    "    \n",
    "    def f(self, i,j):\n",
    "        self.var1 = i;\n",
    "        self.var2 = j;\n",
    "        \n",
    "    def __str__(self):\n",
    "        return \"\\ni=\"+str(self.var1)+\"\\t\"+\"j=\"+str(self.var2)\n",
    "        \n",
    "a1 = A(10,20);\n",
    "print(a1)"
   ]
  },
  {
   "cell_type": "markdown",
   "metadata": {},
   "source": [
    "- In later sections, we will use many major libraries where we will revisit OOP-concepts again and again\n",
    "- We will extend some classes from major libraries (ML/DS/Plotting/Stats/DL) to suit our needs"
   ]
  }
 ],
 "metadata": {
  "celltoolbar": "Slideshow",
  "kernelspec": {
   "display_name": "Python 3",
   "language": "python",
   "name": "python3"
  },
  "language_info": {
   "codemirror_mode": {
    "name": "ipython",
    "version": 3
   },
   "file_extension": ".py",
   "mimetype": "text/x-python",
   "name": "python",
   "nbconvert_exporter": "python",
   "pygments_lexer": "ipython3",
   "version": "3.7.3"
  }
 },
 "nbformat": 4,
 "nbformat_minor": 2
}
